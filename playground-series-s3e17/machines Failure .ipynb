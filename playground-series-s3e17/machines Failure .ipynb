{
 "cells": [
  {
   "cell_type": "code",
   "execution_count": null,
   "id": "b51ae018",
   "metadata": {},
   "outputs": [],
   "source": [
    "import pandas as pd\n",
    "import warnings\n",
    "warnings.filterwarnings('ignore')\n",
    "import numpy as np\n",
    "import seaborn as sns\n",
    "import matplotlib.pyplot as plt\n"
   ]
  },
  {
   "cell_type": "code",
   "execution_count": null,
   "id": "337b56d6",
   "metadata": {},
   "outputs": [],
   "source": [
    "df = pd.read_csv('train.csv')\n",
    "df_org = pd.read_csv('machine failure.csv')\n",
    "df_sub = pd.read_csv('sample_submission.csv')\n",
    "df_test = pd.read_csv('test.csv')"
   ]
  },
  {
   "cell_type": "code",
   "execution_count": null,
   "id": "dbdcb9eb",
   "metadata": {},
   "outputs": [],
   "source": [
    "df"
   ]
  },
  {
   "cell_type": "code",
   "execution_count": null,
   "id": "b58640de",
   "metadata": {},
   "outputs": [],
   "source": [
    "df_test"
   ]
  },
  {
   "cell_type": "code",
   "execution_count": null,
   "id": "7e48d756",
   "metadata": {},
   "outputs": [],
   "source": [
    "df.info()"
   ]
  },
  {
   "cell_type": "code",
   "execution_count": null,
   "id": "a2bb6d35",
   "metadata": {},
   "outputs": [],
   "source": [
    "df_org.info()"
   ]
  },
  {
   "cell_type": "code",
   "execution_count": null,
   "id": "b7444ce1",
   "metadata": {},
   "outputs": [],
   "source": [
    "df.describe()"
   ]
  },
  {
   "cell_type": "code",
   "execution_count": null,
   "id": "7f06f493",
   "metadata": {},
   "outputs": [],
   "source": [
    "len(df['Product ID'].unique())"
   ]
  },
  {
   "cell_type": "code",
   "execution_count": null,
   "id": "ecf1c97e",
   "metadata": {},
   "outputs": [],
   "source": [
    "df = pd.concat([df, df_org])"
   ]
  },
  {
   "cell_type": "code",
   "execution_count": null,
   "id": "641b95c6",
   "metadata": {},
   "outputs": [],
   "source": [
    "df.drop(['id', 'UDI', 'Product ID'], 1, inplace=True)"
   ]
  },
  {
   "cell_type": "code",
   "execution_count": null,
   "id": "374842e7",
   "metadata": {},
   "outputs": [],
   "source": [
    "df.reset_index(drop=True, inplace=True)"
   ]
  },
  {
   "cell_type": "code",
   "execution_count": null,
   "id": "b29c5d41",
   "metadata": {},
   "outputs": [],
   "source": [
    "df.columns =  ['Type', 'Air temperature', 'Process temperature',\n",
    "       'Rotational speed', 'Torque', 'Tool wear',\n",
    "       'Machine failure', 'TWF', 'HDF', 'PWF', 'OSF', 'RNF']"
   ]
  },
  {
   "cell_type": "code",
   "execution_count": null,
   "id": "9fb4efa2",
   "metadata": {},
   "outputs": [],
   "source": [
    "df.Type.value_counts()"
   ]
  },
  {
   "cell_type": "code",
   "execution_count": null,
   "id": "05a01cf1",
   "metadata": {},
   "outputs": [],
   "source": [
    "df['Type'] = df['Type'].replace({'L':0, 'M':1, 'H':2})"
   ]
  },
  {
   "cell_type": "code",
   "execution_count": null,
   "id": "fc2a5c7f",
   "metadata": {},
   "outputs": [],
   "source": [
    "df"
   ]
  },
  {
   "cell_type": "markdown",
   "id": "701bb936",
   "metadata": {},
   "source": [
    "# EDA"
   ]
  },
  {
   "cell_type": "code",
   "execution_count": null,
   "id": "721cdc86",
   "metadata": {},
   "outputs": [],
   "source": [
    "plt.figure(figsize=(10,8))\n",
    "# sns.heatmap(df.corr(), annot=True,fmt=\".3f\")"
   ]
  },
  {
   "cell_type": "code",
   "execution_count": null,
   "id": "762e35bc",
   "metadata": {},
   "outputs": [],
   "source": [
    "df.columns"
   ]
  },
  {
   "cell_type": "code",
   "execution_count": null,
   "id": "ab8cadac",
   "metadata": {},
   "outputs": [],
   "source": [
    "# fig, axes = plt.subplots(2, 2, figsize=(20, 8))\n",
    "\n",
    "# sns.histplot(data = df, x ='Air temperature', ax=axes[0, 0])\n",
    "# axes[0, 0].set_title('Air Temperature')\n",
    "\n",
    "# sns.histplot(df['Process temperature'], ax=axes[0, 1])\n",
    "# axes[0, 1].set_title('Process Temperature')\n",
    "\n",
    "# sns.histplot(df['Rotational speed'], ax=axes[1, 0])\n",
    "# axes[1, 0].set_title('Rotational Speed')\n",
    "\n",
    "# sns.histplot(df['Torque'], ax=axes[1, 1])\n",
    "# axes[1, 1].set_title('Torque')\n",
    "\n",
    "# plt.tight_layout()\n",
    "# plt.show()"
   ]
  },
  {
   "cell_type": "code",
   "execution_count": null,
   "id": "a03c2b1c",
   "metadata": {},
   "outputs": [],
   "source": [
    "df['Rotational speed']"
   ]
  },
  {
   "cell_type": "code",
   "execution_count": null,
   "id": "9bed62a4",
   "metadata": {},
   "outputs": [],
   "source": [
    "sns.histplot(df['Torque'])"
   ]
  },
  {
   "cell_type": "code",
   "execution_count": null,
   "id": "3cdaf6fa",
   "metadata": {},
   "outputs": [],
   "source": [
    "sns.histplot(data = df, x ='Air temperature')"
   ]
  },
  {
   "cell_type": "code",
   "execution_count": null,
   "id": "05c34b64",
   "metadata": {},
   "outputs": [],
   "source": [
    "sns.histplot(data=df)"
   ]
  },
  {
   "cell_type": "code",
   "execution_count": null,
   "id": "8ad80007",
   "metadata": {},
   "outputs": [],
   "source": [
    "df.info()"
   ]
  },
  {
   "cell_type": "code",
   "execution_count": null,
   "id": "fc62dfe0",
   "metadata": {},
   "outputs": [],
   "source": [
    "df"
   ]
  },
  {
   "cell_type": "code",
   "execution_count": null,
   "id": "8345962f",
   "metadata": {},
   "outputs": [],
   "source": [
    "# Import necessary libraries\n",
    "import numpy as np\n",
    "import pandas as pd\n",
    "import seaborn as sns\n",
    "\n",
    "# Load dataset\n",
    "penguins = sns.load_dataset(\"penguins\")\n",
    "\n",
    "# Plot histogram\n",
    "# sns.histplot(data = penguins, x = \"body_mass_g\", kde = True)\n",
    "penguins\n"
   ]
  },
  {
   "cell_type": "code",
   "execution_count": null,
   "id": "6e993a8d",
   "metadata": {},
   "outputs": [],
   "source": []
  },
  {
   "cell_type": "code",
   "execution_count": null,
   "id": "d0156f3e",
   "metadata": {},
   "outputs": [],
   "source": []
  }
 ],
 "metadata": {
  "kernelspec": {
   "display_name": "Python 3 (ipykernel)",
   "language": "python",
   "name": "python3"
  },
  "language_info": {
   "codemirror_mode": {
    "name": "ipython",
    "version": 3
   },
   "file_extension": ".py",
   "mimetype": "text/x-python",
   "name": "python",
   "nbconvert_exporter": "python",
   "pygments_lexer": "ipython3",
   "version": "3.9.6"
  }
 },
 "nbformat": 4,
 "nbformat_minor": 5
}
